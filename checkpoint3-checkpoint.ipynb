{
 "cells": [
  {
   "cell_type": "code",
   "execution_count": 13,
   "id": "50a1fd4f",
   "metadata": {},
   "outputs": [
    {
     "name": "stdout",
     "output_type": "stream",
     "text": [
      "36\n"
     ]
    }
   ],
   "source": [
    "mylist=[2,3,6]\n",
    "print(2*3*6)"
   ]
  },
  {
   "cell_type": "code",
   "execution_count": 18,
   "id": "95a48166",
   "metadata": {},
   "outputs": [
    {
     "name": "stdout",
     "output_type": "stream",
     "text": [
      "[(2, 1), (1, 2), (2, 3), (4, 4), (2, 5)]\n"
     ]
    }
   ],
   "source": [
    "mylist=[(2, 5), (1, 2), (4, 4), (2, 3), (2, 1)]\n",
    "mylist.sort(key =lambda x:x[-1])\n",
    "print(mylist)"
   ]
  },
  {
   "cell_type": "code",
   "execution_count": 39,
   "id": "abad2f91",
   "metadata": {},
   "outputs": [
    {
     "name": "stdout",
     "output_type": "stream",
     "text": [
      "{'a': 400, 'b': 400, 'c': 300}\n"
     ]
    }
   ],
   "source": [
    "d1 = {'a' : 100, 'b' : 200, 'c' : 300}\n",
    "d2 = {'a' : 300, 'b' : 200, 'd' : 400}\n",
    "for key in d1:\n",
    "    if key in d2:\n",
    "        d1[key] = d1[key] + d2[key]\n",
    "        \n",
    "    else:\n",
    "        pass\n",
    "        \n",
    "         \n",
    "print(d1)"
   ]
  },
  {
   "cell_type": "code",
   "execution_count": null,
   "id": "ccb77ece",
   "metadata": {},
   "outputs": [],
   "source": []
  },
  {
   "cell_type": "code",
   "execution_count": null,
   "id": "3ca75451",
   "metadata": {},
   "outputs": [],
   "source": []
  }
 ],
 "metadata": {
  "kernelspec": {
   "display_name": "Python 3 (ipykernel)",
   "language": "python",
   "name": "python3"
  },
  "language_info": {
   "codemirror_mode": {
    "name": "ipython",
    "version": 3
   },
   "file_extension": ".py",
   "mimetype": "text/x-python",
   "name": "python",
   "nbconvert_exporter": "python",
   "pygments_lexer": "ipython3",
   "version": "3.9.13"
  }
 },
 "nbformat": 4,
 "nbformat_minor": 5
}
